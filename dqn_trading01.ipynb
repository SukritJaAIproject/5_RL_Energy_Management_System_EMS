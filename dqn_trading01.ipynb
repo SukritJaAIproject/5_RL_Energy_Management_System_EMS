{
 "cells": [
  {
   "cell_type": "markdown",
   "metadata": {},
   "source": [
    "goal : the highest returns possible within any given 10-hour period."
   ]
  },
  {
   "cell_type": "code",
   "execution_count": 1,
   "metadata": {},
   "outputs": [],
   "source": [
    "%load_ext autoreload\n",
    "%autoreload 2\n",
    "%matplotlib inline\n",
    "\n",
    "import matplotlib.pyplot as plt\n",
    "from plotnine import *\n",
    "import pandas as pd\n",
    "import numpy as np\n",
    "from tqdm import tqdm_notebook\n",
    "from collections import deque\n",
    "\n",
    "import warnings\n",
    "warnings.filterwarnings('ignore')"
   ]
  },
  {
   "cell_type": "markdown",
   "metadata": {},
   "source": [
    "## Explore Dataset\n",
    "* `timestamp`:\n",
    "* `open`:\n",
    "* `high`:\n",
    "* `low`:\n",
    "* `close`: price at the end of the minute\n",
    "* `volume_btc`:\n",
    "* `volume_currency`:\n",
    "* `weighted_close`:\n",
    "* Why should we use or not use `close` to calculate our returns?"
   ]
  },
  {
   "cell_type": "code",
   "execution_count": 2,
   "metadata": {},
   "outputs": [
    {
     "data": {
      "text/html": [
       "<div>\n",
       "<style scoped>\n",
       "    .dataframe tbody tr th:only-of-type {\n",
       "        vertical-align: middle;\n",
       "    }\n",
       "\n",
       "    .dataframe tbody tr th {\n",
       "        vertical-align: top;\n",
       "    }\n",
       "\n",
       "    .dataframe thead th {\n",
       "        text-align: right;\n",
       "    }\n",
       "</style>\n",
       "<table border=\"1\" class=\"dataframe\">\n",
       "  <thead>\n",
       "    <tr style=\"text-align: right;\">\n",
       "      <th></th>\n",
       "      <th>timestamp</th>\n",
       "      <th>open</th>\n",
       "      <th>high</th>\n",
       "      <th>low</th>\n",
       "      <th>close</th>\n",
       "      <th>volume_btc</th>\n",
       "      <th>volume_currency</th>\n",
       "      <th>weighted_close</th>\n",
       "    </tr>\n",
       "  </thead>\n",
       "  <tbody>\n",
       "    <tr>\n",
       "      <th>0</th>\n",
       "      <td>1325317920</td>\n",
       "      <td>4.39</td>\n",
       "      <td>4.39</td>\n",
       "      <td>4.39</td>\n",
       "      <td>4.39</td>\n",
       "      <td>0.455581</td>\n",
       "      <td>2.0</td>\n",
       "      <td>4.39</td>\n",
       "    </tr>\n",
       "    <tr>\n",
       "      <th>1</th>\n",
       "      <td>1325317980</td>\n",
       "      <td>4.39</td>\n",
       "      <td>4.39</td>\n",
       "      <td>4.39</td>\n",
       "      <td>4.39</td>\n",
       "      <td>0.455581</td>\n",
       "      <td>2.0</td>\n",
       "      <td>4.39</td>\n",
       "    </tr>\n",
       "    <tr>\n",
       "      <th>2</th>\n",
       "      <td>1325318040</td>\n",
       "      <td>4.39</td>\n",
       "      <td>4.39</td>\n",
       "      <td>4.39</td>\n",
       "      <td>4.39</td>\n",
       "      <td>0.455581</td>\n",
       "      <td>2.0</td>\n",
       "      <td>4.39</td>\n",
       "    </tr>\n",
       "    <tr>\n",
       "      <th>3</th>\n",
       "      <td>1325318100</td>\n",
       "      <td>4.39</td>\n",
       "      <td>4.39</td>\n",
       "      <td>4.39</td>\n",
       "      <td>4.39</td>\n",
       "      <td>0.455581</td>\n",
       "      <td>2.0</td>\n",
       "      <td>4.39</td>\n",
       "    </tr>\n",
       "    <tr>\n",
       "      <th>4</th>\n",
       "      <td>1325318160</td>\n",
       "      <td>4.39</td>\n",
       "      <td>4.39</td>\n",
       "      <td>4.39</td>\n",
       "      <td>4.39</td>\n",
       "      <td>0.455581</td>\n",
       "      <td>2.0</td>\n",
       "      <td>4.39</td>\n",
       "    </tr>\n",
       "  </tbody>\n",
       "</table>\n",
       "</div>"
      ],
      "text/plain": [
       "    timestamp  open  high   low  close  volume_btc  volume_currency  \\\n",
       "0  1325317920  4.39  4.39  4.39   4.39    0.455581              2.0   \n",
       "1  1325317980  4.39  4.39  4.39   4.39    0.455581              2.0   \n",
       "2  1325318040  4.39  4.39  4.39   4.39    0.455581              2.0   \n",
       "3  1325318100  4.39  4.39  4.39   4.39    0.455581              2.0   \n",
       "4  1325318160  4.39  4.39  4.39   4.39    0.455581              2.0   \n",
       "\n",
       "   weighted_close  \n",
       "0            4.39  \n",
       "1            4.39  \n",
       "2            4.39  \n",
       "3            4.39  \n",
       "4            4.39  "
      ]
     },
     "execution_count": 2,
     "metadata": {},
     "output_type": "execute_result"
    }
   ],
   "source": [
    "# df = pd.read_csv('data/bitstampUSD_1-min_data_2012-01-01_to_2018-06-27.csv')\n",
    "# df.columns = ['timestamp','open','high','low','close','volume_btc','volume_currency','weighted_close']\n",
    "# df.head()"
   ]
  },
  {
   "cell_type": "markdown",
   "metadata": {},
   "source": [
    "As we can see, the first few years of Bitcoin is not so interesting so we will use the last 10,000 minutes as our validation set and the last 100,000 minutes (excluding validation set) as our training set."
   ]
  },
  {
   "cell_type": "code",
   "execution_count": 3,
   "metadata": {},
   "outputs": [
    {
     "data": {
      "text/plain": [
       "<AxesSubplot:>"
      ]
     },
     "execution_count": 3,
     "metadata": {},
     "output_type": "execute_result"
    },
    {
     "data": {
      "image/png": "[encoded data removed]",
      "text/plain": [
       "<Figure size 432x288 with 1 Axes>"
      ]
     },
     "metadata": {
      "needs_background": "light"
     },
     "output_type": "display_data"
    }
   ],
   "source": [
    "# df.close.plot(grid=True)"
   ]
  },
  {
   "cell_type": "code",
   "execution_count": 4,
   "metadata": {},
   "outputs": [],
   "source": [
    "# train_df = df.iloc[-100000:-10000,:].copy()\n",
    "# valid_df = df.iloc[-10000:,:].copy()"
   ]
  },
  {
   "cell_type": "code",
   "execution_count": 5,
   "metadata": {},
   "outputs": [
    {
     "data": {
      "text/plain": [
       "<AxesSubplot:>"
      ]
     },
     "execution_count": 5,
     "metadata": {},
     "output_type": "execute_result"
    },
    {
     "data": {
      "image/png": "[encoded data removed]",
      "text/plain": [
       "<Figure size 432x288 with 1 Axes>"
      ]
     },
     "metadata": {
      "needs_background": "light"
     },
     "output_type": "display_data"
    }
   ],
   "source": [
    "# train_df.close.plot(grid=True)"
   ]
  },
  {
   "cell_type": "code",
   "execution_count": 6,
   "metadata": {},
   "outputs": [
    {
     "data": {
      "text/plain": [
       "<AxesSubplot:>"
      ]
     },
     "execution_count": 6,
     "metadata": {},
     "output_type": "execute_result"
    },
    {
     "data": {
      "image/png": "[encoded data removed]",
      "text/plain": [
       "<Figure size 432x288 with 1 Axes>"
      ]
     },
     "metadata": {
      "needs_background": "light"
     },
     "output_type": "display_data"
    }
   ],
   "source": [
    "valid_df.close.plot(grid=True)"
   ]
  },
  {
   "cell_type": "markdown",
   "metadata": {},
   "source": [
    "## Build Environment"
   ]
  },
  {
   "cell_type": "markdown",
   "metadata": {},
   "source": [
    "Half (or more) of the work to do rl in real life is to formulate the environment to fit the objective.\n",
    "* `Obj` ของตัวอย่างนี้ ค่อนข้างที่จะไม่สมจริง (แต่เหมาะสมสำหรับการศึกษา)\n",
    "* `Obj.` คือการที่ agent ได้รับ highest returns in any given 10-hour window.\n",
    "* We assume 0.5% commission (you need to pay a small fee to change your position) and 0% risk-free rate (the safest alternative asset you can invest other than Bitcoin has 0% returns).\n",
    "\n",
    "The class SingleStockEnvironment below is given as a guideline for an environment that comply with our objective. Some tips for implementation:\n",
    "* Think about what the agent should know to make a decision and include all of those as a state such as technical indicators, previous actions, and so on.\n",
    "* Reward should be aligned with the objective.\n",
    "* Bonus Obviously this environment is unrealistic with risk-free rate and only one asset. What can you do to make it more realistic?"
   ]
  },
  {
   "cell_type": "code",
   "execution_count": 39,
   "metadata": {},
   "outputs": [],
   "source": [
    "# import numpy as np\n",
    "# import pandas as pd\n",
    "\n",
    "# class SingleStockEnvironment:\n",
    "#     def __init__(self, df, episode_len = 600, short_window = 15, long_window = 60,\n",
    "#                 state_cols = ['hodl','close_change','short','long','signal'], commission=0.0005):\n",
    "#         '''\n",
    "#         Default:\n",
    "#             * take input `df` which has at least `timestamp` and `close`\n",
    "#             * 0.05% commission; risk free rate of 0%\n",
    "#             * benchmark with buy and HODL and momentum strategies only\n",
    "#         '''\n",
    "#         self.episode_len = 600\n",
    "#         self.short_window = short_window\n",
    "#         self.long_window = long_window\n",
    "#         self.master_df = self.process_df(df.copy())\n",
    "#         self.state_cols = state_cols\n",
    "#         self.actions = [-1,0,1]\n",
    "#         self.commission = commission\n",
    "#         self.reset()\n",
    "        \n",
    "#     def reset(self):\n",
    "#         '''\n",
    "#         Fill in the blank\n",
    "#         Sample a data frame with episode length `self.episode_len` from `self.master_df`\n",
    "#         return current state as a numpy array\n",
    "#         ''' \n",
    "#         self.idx = 0\n",
    "#         self.previous_action = 0\n",
    "#         rand_idx = np.random.randint(0,self.master_df.shape[0]-self.episode_len)\n",
    "#         self.df = self.master_df.copy().iloc[rand_idx:(rand_idx+self.episode_len),:].reset_index(drop=True)\n",
    "#         return self.get_state()\n",
    "    \n",
    "#     def step(self, action_idx):\n",
    "#         '''\n",
    "#         Fill in the black\n",
    "#         Default: take either `long` (1), `do nothing` (0) or `short` (-1) as action\n",
    "#         Possible: include `do nothing` (0) as liquidating all existing positions, especially\n",
    "#         interesting when taking into account commmissions\n",
    "        \n",
    "#         Input: action_idx (don't forget to record it to `self.df`)\n",
    "#         Output: next state, reward, done, info (can be any useful information)\n",
    "#         '''\n",
    "#         #record action\n",
    "#         self.df.iloc[self.idx,self.df.columns.get_loc('signal')] = self.actions[action_idx]\n",
    "        \n",
    "#         #record commission, if any\n",
    "#         if self.previous_action==0 and self.actions[action_idx]!=0: #change from nothing to position\n",
    "#             self.df.iloc[self.idx,self.df.columns.get_loc('commission')] = self.commission\n",
    "#         elif self.previous_action!=self.actions[action_idx] and self.previous_action!=0: #change from position to another position\n",
    "#             self.df.iloc[self.idx,self.df.columns.get_loc('commission')] = self.commission*2\n",
    "#         self.previous_action = self.actions[action_idx]\n",
    "        \n",
    "#         #reward\n",
    "#         reward = self.get_reward()\n",
    "        \n",
    "#         #done\n",
    "#         done=False\n",
    "#         if self.idx == self.df.index.max()-1: done=True\n",
    "        \n",
    "#         #info\n",
    "#         info = {'idx':self.idx, \n",
    "#                 'reward': reward,\n",
    "#                 'model returns': ((self.df.close_returns[:self.idx]+self.df.commission[:self.idx]) * self.df.signal[:self.idx] + 1).prod(),\n",
    "#                 'HODL returns': (1+self.df.close_returns[:self.idx]).prod(),\n",
    "#                 'SHORTL returns': (1-self.df.close_returns[:self.idx]).prod(),\n",
    "#                 'mom returns': (self.df.close_returns[:self.idx] * self.df.mom_signal[:self.idx] + 1).prod()}\n",
    "        \n",
    "#         #increment idx\n",
    "#         self.idx+=1\n",
    "\n",
    "#         return self.get_state(),reward,done, info\n",
    "        \n",
    "#     def get_state(self):\n",
    "#         '''\n",
    "#         Fill in the blank\n",
    "#         Default: [HODL portfolio (from first period), close price change from last period, \n",
    "#         short indicator, long indicator]\n",
    "#         Possible: indicators, previous timesteps\n",
    "#         '''\n",
    "#         return np.array(self.df.loc[self.idx,self.state_cols])\n",
    "    \n",
    "#     def get_reward(self):\n",
    "#         '''\n",
    "#         Fill in the blank\n",
    "#         Default: returns of close price \n",
    "#         Possible: sharpe ratio, sortino ratio, change in portfolio etc.\n",
    "#         '''\n",
    "#         rewards = ((self.df.close_returns+self.df.commission)*self.df.signal+1).cumprod().diff()\n",
    "# #         rewards = self.df.close_returns * self.df.signal\n",
    "#         return np.round(np.nan_to_num(rewards[self.idx])*1000,6)\n",
    "# #         return 1 if rewards[self.idx] > 0 else -1\n",
    "        \n",
    "#     def process_df(self,df):\n",
    "#         #minimal features\n",
    "#         df['close_change'] = df.close.pct_change()\n",
    "#         df.fillna(0, inplace=True)\n",
    "#         df['hodl'] = (df.close_change+1).cumprod()\n",
    "#         #momentum features\n",
    "#         df['short'] = df.hodl.rolling(window=self.short_window, min_periods=1, center=False).mean()\n",
    "#         # df['short'] = df.hodl.ewm(span=self.short_window, min_periods=1).mean()\n",
    "#         df['long'] = df.hodl.rolling(window=self.long_window, min_periods=1, center=False).mean()\n",
    "#         # df['long'] = df.hodl.ewm(span=self.long_window, min_periods=1).mean()\n",
    "#         df['mom_signal'] = 0\n",
    "#         df.iloc[self.short_window:,df.columns.get_loc('mom_signal')] = np.where(df['short'][self.short_window:] > df['long'][self.short_window:], 1, -1)\n",
    "#         #returns\n",
    "#         df['close_returns'] = df.close_change.shift(-1)\n",
    "#         df['signal'] = 0\n",
    "#         df['commission'] = 0\n",
    "#         return df"
   ]
  },
  {
   "cell_type": "markdown",
   "metadata": {},
   "source": [
    "## Build Memory\n",
    "Create a memory to store transitions and feed to the agent."
   ]
  },
  {
   "cell_type": "code",
   "execution_count": 7,
   "metadata": {},
   "outputs": [],
   "source": [
    "# class VanillaMemory:\n",
    "#     def __init__(self, memory_size):\n",
    "#         self.memory_size = memory_size\n",
    "#         self.memory = deque(maxlen=memory_size) \n",
    "#     def add(self, *args):\n",
    "#         pass\n",
    "#     def sample(self, batch_size):\n",
    "#         pass\n",
    "#     def __len__(self):\n",
    "#         return len(self.memory)"
   ]
  },
  {
   "cell_type": "code",
   "execution_count": 2,
   "metadata": {},
   "outputs": [],
   "source": [
    "from solutions.memories import PrioritizedNStepMemory"
   ]
  },
  {
   "cell_type": "markdown",
   "metadata": {},
   "source": [
    "## Build Nework\n",
    "Create an architecture tempalte for the networks to use to estimate action and/or state values. You can go crazy with convolutions, recurrent networks or transformers."
   ]
  },
  {
   "cell_type": "code",
   "execution_count": 3,
   "metadata": {},
   "outputs": [],
   "source": [
    "from solutions.networks import NoisyDuelingNetwork"
   ]
  },
  {
   "cell_type": "code",
   "execution_count": 8,
   "metadata": {},
   "outputs": [],
   "source": [
    "# import tensorflow as tf\n",
    "# from tensorflow.keras import layers, models\n",
    "\n",
    "# class DenseNetwork(models.Model):\n",
    "#     def __init__(self, output_size, hidden_sizes, **args):\n",
    "#         super(DenseNetwork, self).__init__()\n",
    "#         pass\n",
    "#     def call(self, x, training=True):\n",
    "#         pass"
   ]
  },
  {
   "cell_type": "markdown",
   "metadata": {},
   "source": [
    "## Build Agent"
   ]
  },
  {
   "cell_type": "code",
   "execution_count": 4,
   "metadata": {},
   "outputs": [],
   "source": [
    "from solutions.agents import DQNAgent"
   ]
  },
  {
   "cell_type": "code",
   "execution_count": 9,
   "metadata": {},
   "outputs": [],
   "source": [
    "# class DQNAgent:\n",
    "#     def __init__(self, state_size, action_size, replay_memory,\n",
    "#         lr=1e-3, bs = 64, clip=1., hidden_sizes = [256,256],\n",
    "#         gamma=0.99, tau= 1e-3, update_interval = 5, update_times = 1,\n",
    "#         double = False, Architecture=DenseNetwork):\n",
    "        \n",
    "#         self.state_size = state_size\n",
    "#         self.action_size = action_size\n",
    "#         self.hidden_sizes = hidden_sizes\n",
    "#         self.lr = lr\n",
    "#         self.bs = bs\n",
    "#         self.gamma = gamma\n",
    "#         self.update_interval = update_interval\n",
    "#         self.update_times = update_times\n",
    "#         self.tau = tau\n",
    "#         self.losses = []\n",
    "#         self.clip = clip\n",
    "#         self.double = double\n",
    "#         self.Architecture = Architecture\n",
    "\n",
    "#         #networks\n",
    "#         self.network_local = Architecture(output_size=self.action_size, \n",
    "#                                           hidden_sizes = self.hidden_sizes, \n",
    "#                                           input_size=state_size)\n",
    "#         self.network_local.build(input_shape=(None,self.state_size))\n",
    "#         self.network_target = Architecture(output_size=self.action_size,\n",
    "#                                            hidden_sizes=self.hidden_sizes,\n",
    "#                                            input_size=state_size)\n",
    "#         self.network_target.build(input_shape=(None,self.state_size))\n",
    "#         self.network_target.set_weights(self.network_local.get_weights())\n",
    "        \n",
    "#         #optimizer\n",
    "#         self.optimizer = tf.keras.optimizers.Adam(learning_rate = self.lr, clipvalue=self.clip)\n",
    "        \n",
    "#         # replay memory\n",
    "#         self.memory = replay_memory\n",
    "#         # count time steps and episodes\n",
    "#         self.t_step = 0\n",
    "#         self.episodes = 0\n",
    "    \n",
    "#     def step(self, state, action, reward, next_state, done):\n",
    "#         #add transition to replay memory\n",
    "#         self.memory.add(state, action, reward, next_state, done, #for all others\n",
    "#             self.episodes, self.t_step) #for nstep memory\n",
    "\n",
    "#         #increment episodes if done\n",
    "#         if done: \n",
    "#             self.t_step = 0\n",
    "#             self.episodes+=1\n",
    "        \n",
    "#         #update target network\n",
    "#         self.soft_update()\n",
    "#         #self.hard_update()\n",
    "        \n",
    "#         # learn every self.t_step\n",
    "#         self.t_step += 1\n",
    "#         if self.t_step % self.update_interval == 0:\n",
    "#             if len(self.memory) > self.bs:\n",
    "#                 for _ in range(self.update_times):\n",
    "#                     if isinstance(self.memory,PrioritizedMemory):\n",
    "#                         transitions = self.memory.sample(self.bs, self.get_beta(self.episodes))\n",
    "#                     else:\n",
    "#                         transitions = self.memory.sample(self.bs)\n",
    "#                     loss = self.learn(transitions)\n",
    "#                     self.losses.append(loss)\n",
    "\n",
    "#     def act(self, state):\n",
    "#         eps = self.get_eps(self.episodes)\n",
    "#         action_values = self.network_local(tf.cast(state[None,:],dtype=tf.float32))\n",
    "#         print(action_values)\n",
    "#         print(type(action_values))\n",
    "#         #epsilon greedy exploration\n",
    "#         if random.random() > eps:\n",
    "#             return np.argmax(action_values.numpy())\n",
    "#         else:\n",
    "#             return random.choice(np.arange(self.action_size))\n",
    "\n",
    "#     #we use tf.function decorator for training process to switch from eager to static graph\n",
    "#     #NOT compatible with PrioritizedMemory yet\n",
    "#     #with decorator\n",
    "#     #1.64 ms ± 45.3 µs per loop (mean ± std. dev. of 7 runs, 1000 loops each)\n",
    "#     #without decorator\n",
    "#     #2.93 ms ± 442 µs per loop (mean ± std. dev. of 7 runs, 100 loops each)\n",
    "# #     @tf.function\n",
    "#     def learn(self, transitions):\n",
    "#         states, actions, rewards, next_states, dones = transitions\n",
    "\n",
    "#         if self.double:\n",
    "#             max_actions_next = tf.cast(tf.argmax(self.network_local(next_states),1), dtype=tf.int32)\n",
    "#             seq = tf.range(0, actions.shape[0])\n",
    "#             max_action_idxs = tf.transpose(tf.stack([seq, max_actions_next]))\n",
    "#             q_targets_next = tf.gather_nd(self.network_target(next_states), max_action_idxs)[:,tf.newaxis]\n",
    "#         else:\n",
    "#             q_targets_next = tf.reduce_max(self.network_target(next_states),1)[:,tf.newaxis]\n",
    "\n",
    "#         q_targets = rewards + (self.gamma * q_targets_next) * (1 - dones)\n",
    "#         q_targets = q_targets[:,0] #flatten q_targets\n",
    "\n",
    "#         with tf.GradientTape() as tape:\n",
    "#             #get predictions of all actions\n",
    "#             preds = self.network_local(states)\n",
    "            \n",
    "#             #get index of actions used to calculate q_expected\n",
    "#             actions = actions[:,0] #flatten actions\n",
    "#             seq = tf.range(0, actions.shape[0])\n",
    "#             action_idxs = tf.transpose(tf.stack([seq, actions]))\n",
    "\n",
    "#             #get q values only at specific action indice\n",
    "#             #tensorflow has this weird way to gather where you need to put index as\n",
    "#             #[[0, action_idx1],[1, action_idx2],...,[n, action_idxn]]\n",
    "#             q_expected = tf.gather_nd(preds, action_idxs)\n",
    "            \n",
    "#             #calculate loss\n",
    "#             loss = self.vanilla_loss(q_targets, q_expected)\n",
    "            \n",
    "#             #get gradients\n",
    "#             gradients = tape.gradient(loss, self.network_local.trainable_weights)\n",
    "        \n",
    "#         #apply gradients\n",
    "#         self.optimizer.apply_gradients(zip(gradients,self.network_local.trainable_weights))\n",
    "\n",
    "#         return loss\n",
    "\n",
    "#     def vanilla_loss(self, q_targets, q_expected):\n",
    "#         return tf.keras.losses.mse(q_targets, q_expected)\n",
    "    \n",
    "#     def hard_update(self):\n",
    "#         if self.t_step % 1/self.tau==0:\n",
    "#             self.network_target.set_weights(self.network_local.get_weights())\n",
    "\n",
    "#     def soft_update(self):\n",
    "#         weights_local = np.array(self.network_local.get_weights())\n",
    "#         weights_target = np.array(self.network_target.get_weights())\n",
    "#         self.network_target.set_weights(self.tau * weights_local + (1 - self.tau) * weights_target)\n",
    "        \n",
    "#     def get_eps(self, i, eps_start = 1., eps_end = 0.001, eps_decay = 0.9):\n",
    "#         eps = max(eps_start * (eps_decay ** i), eps_end)\n",
    "#         return(eps)"
   ]
  },
  {
   "cell_type": "code",
   "execution_count": 5,
   "metadata": {},
   "outputs": [],
   "source": [
    "import gym\n",
    "env = gym.make('CartPole-v1')"
   ]
  },
  {
   "cell_type": "code",
   "execution_count": 6,
   "metadata": {},
   "outputs": [],
   "source": [
    "# from solutions1.memories import VanillaMemory\n",
    "# from solutions1.agents import DQNAgent\n",
    "\n",
    "# mem = VanillaMemory(int(1e5)) \n",
    "mem = PrioritizedNStepMemory(int(1e5))\n",
    "\n",
    "\n",
    "# a = DQNAgent(state_size = env.reset().shape[0], \n",
    "#              action_size = env.action_space.n, replay_memory = mem,\n",
    "#              hidden_sizes=[64,64], double=True)\n",
    "\n",
    "a = DQNAgent(state_size = env.reset().shape[0], hidden_sizes = [64,64],\n",
    "             action_size = env.action_space.n, replay_memory = mem,\n",
    "             double=True, Architecture=NoisyDuelingNetwork)"
   ]
  },
  {
   "cell_type": "code",
   "execution_count": 7,
   "metadata": {},
   "outputs": [
    {
     "data": {
      "application/vnd.jupyter.widget-view+json": {
       "model_id": "d90a8c54077041569417e9bdf0e9d1ec",
       "version_major": 2,
       "version_minor": 0
      },
      "text/plain": [
       "HBox(children=(FloatProgress(value=0.0, max=10000.0), HTML(value='')))"
      ]
     },
     "metadata": {},
     "output_type": "display_data"
    },
    {
     "name": "stdout",
     "output_type": "stream",
     "text": [
      "Episdoe 99 Moving Average: 9.323232323232324\n",
      "Episdoe 199 Moving Average: 9.39\n",
      "Episdoe 299 Moving Average: 9.4\n",
      "Episdoe 399 Moving Average: 9.36\n",
      "Episdoe 499 Moving Average: 9.42\n",
      "Episdoe 599 Moving Average: 9.33\n",
      "Episdoe 699 Moving Average: 9.44\n",
      "Episdoe 799 Moving Average: 9.45\n",
      "Episdoe 899 Moving Average: 9.35\n",
      "Episdoe 999 Moving Average: 9.37\n",
      "Episdoe 1099 Moving Average: 9.34\n",
      "Episdoe 1199 Moving Average: 9.4\n",
      "Episdoe 1299 Moving Average: 9.36\n",
      "Episdoe 1399 Moving Average: 9.33\n",
      "Episdoe 1499 Moving Average: 9.41\n",
      "Episdoe 1599 Moving Average: 9.3\n",
      "Episdoe 1699 Moving Average: 9.34\n",
      "Episdoe 1799 Moving Average: 9.4\n",
      "Episdoe 1899 Moving Average: 9.48\n",
      "Episdoe 1999 Moving Average: 9.38\n",
      "Episdoe 2099 Moving Average: 9.35\n",
      "Episdoe 2199 Moving Average: 9.34\n",
      "Episdoe 2299 Moving Average: 9.27\n",
      "Episdoe 2399 Moving Average: 9.3\n",
      "Episdoe 2499 Moving Average: 9.25\n",
      "Episdoe 2599 Moving Average: 9.43\n",
      "Episdoe 2699 Moving Average: 9.41\n",
      "Episdoe 2799 Moving Average: 9.3\n",
      "Episdoe 2899 Moving Average: 9.23\n",
      "Episdoe 2999 Moving Average: 9.42\n",
      "Episdoe 3099 Moving Average: 9.42\n",
      "Episdoe 3199 Moving Average: 9.32\n",
      "Episdoe 3299 Moving Average: 9.43\n",
      "Episdoe 3399 Moving Average: 9.41\n",
      "Episdoe 3499 Moving Average: 9.43\n",
      "Episdoe 3599 Moving Average: 9.37\n",
      "Episdoe 3699 Moving Average: 9.24\n",
      "Episdoe 3799 Moving Average: 9.44\n",
      "\n"
     ]
    },
    {
     "ename": "OverflowError",
     "evalue": "(34, 'Result too large')",
     "output_type": "error",
     "traceback": [
      "\u001b[1;31m---------------------------------------------------------------------------\u001b[0m",
      "\u001b[1;31mOverflowError\u001b[0m                             Traceback (most recent call last)",
      "\u001b[1;32m<ipython-input-7-096bc4fb0ee4>\u001b[0m in \u001b[0;36m<module>\u001b[1;34m\u001b[0m\n\u001b[0;32m     21\u001b[0m \u001b[1;33m\u001b[0m\u001b[0m\n\u001b[0;32m     22\u001b[0m         \u001b[1;31m#agent step\u001b[0m\u001b[1;33m\u001b[0m\u001b[1;33m\u001b[0m\u001b[1;33m\u001b[0m\u001b[0m\n\u001b[1;32m---> 23\u001b[1;33m         \u001b[0ma\u001b[0m\u001b[1;33m.\u001b[0m\u001b[0mstep\u001b[0m\u001b[1;33m(\u001b[0m\u001b[0mstate\u001b[0m\u001b[1;33m,\u001b[0m\u001b[0maction\u001b[0m\u001b[1;33m,\u001b[0m\u001b[0mreward\u001b[0m\u001b[1;33m,\u001b[0m\u001b[0mnext_state\u001b[0m\u001b[1;33m,\u001b[0m\u001b[0mdone\u001b[0m\u001b[1;33m)\u001b[0m\u001b[1;33m\u001b[0m\u001b[1;33m\u001b[0m\u001b[0m\n\u001b[0m\u001b[0;32m     24\u001b[0m \u001b[1;33m\u001b[0m\u001b[0m\n\u001b[0;32m     25\u001b[0m         \u001b[1;31m#collect score\u001b[0m\u001b[1;33m\u001b[0m\u001b[1;33m\u001b[0m\u001b[1;33m\u001b[0m\u001b[0m\n",
      "\u001b[1;32m~\\PycharmProjects\\RL_smarthome\\solutions\\agents.py\u001b[0m in \u001b[0;36mstep\u001b[1;34m(self, state, action, reward, next_state, done)\u001b[0m\n\u001b[0;32m    143\u001b[0m                 \u001b[1;32mfor\u001b[0m \u001b[0m_\u001b[0m \u001b[1;32min\u001b[0m \u001b[0mrange\u001b[0m\u001b[1;33m(\u001b[0m\u001b[0mself\u001b[0m\u001b[1;33m.\u001b[0m\u001b[0mupdate_times\u001b[0m\u001b[1;33m)\u001b[0m\u001b[1;33m:\u001b[0m\u001b[1;33m\u001b[0m\u001b[1;33m\u001b[0m\u001b[0m\n\u001b[0;32m    144\u001b[0m                     \u001b[1;32mif\u001b[0m \u001b[0misinstance\u001b[0m\u001b[1;33m(\u001b[0m\u001b[0mself\u001b[0m\u001b[1;33m.\u001b[0m\u001b[0mmemory\u001b[0m\u001b[1;33m,\u001b[0m\u001b[0mPrioritizedMemory\u001b[0m\u001b[1;33m)\u001b[0m\u001b[1;33m:\u001b[0m\u001b[1;33m\u001b[0m\u001b[1;33m\u001b[0m\u001b[0m\n\u001b[1;32m--> 145\u001b[1;33m                         \u001b[0mtransitions\u001b[0m \u001b[1;33m=\u001b[0m \u001b[0mself\u001b[0m\u001b[1;33m.\u001b[0m\u001b[0mmemory\u001b[0m\u001b[1;33m.\u001b[0m\u001b[0msample\u001b[0m\u001b[1;33m(\u001b[0m\u001b[0mself\u001b[0m\u001b[1;33m.\u001b[0m\u001b[0mbs\u001b[0m\u001b[1;33m,\u001b[0m \u001b[0mself\u001b[0m\u001b[1;33m.\u001b[0m\u001b[0mget_beta\u001b[0m\u001b[1;33m(\u001b[0m\u001b[0mself\u001b[0m\u001b[1;33m.\u001b[0m\u001b[0mepisodes\u001b[0m\u001b[1;33m)\u001b[0m\u001b[1;33m)\u001b[0m\u001b[1;33m\u001b[0m\u001b[1;33m\u001b[0m\u001b[0m\n\u001b[0m\u001b[0;32m    146\u001b[0m                     \u001b[1;32melse\u001b[0m\u001b[1;33m:\u001b[0m\u001b[1;33m\u001b[0m\u001b[1;33m\u001b[0m\u001b[0m\n\u001b[0;32m    147\u001b[0m                         \u001b[0mtransitions\u001b[0m \u001b[1;33m=\u001b[0m \u001b[0mself\u001b[0m\u001b[1;33m.\u001b[0m\u001b[0mmemory\u001b[0m\u001b[1;33m.\u001b[0m\u001b[0msample\u001b[0m\u001b[1;33m(\u001b[0m\u001b[0mself\u001b[0m\u001b[1;33m.\u001b[0m\u001b[0mbs\u001b[0m\u001b[1;33m)\u001b[0m\u001b[1;33m\u001b[0m\u001b[1;33m\u001b[0m\u001b[0m\n",
      "\u001b[1;32m~\\PycharmProjects\\RL_smarthome\\solutions\\agents.py\u001b[0m in \u001b[0;36mget_beta\u001b[1;34m(self, i, beta_start, beta_end, beta_growth)\u001b[0m\n\u001b[0;32m    244\u001b[0m \u001b[1;33m\u001b[0m\u001b[0m\n\u001b[0;32m    245\u001b[0m     \u001b[1;32mdef\u001b[0m \u001b[0mget_beta\u001b[0m\u001b[1;33m(\u001b[0m\u001b[0mself\u001b[0m\u001b[1;33m,\u001b[0m \u001b[0mi\u001b[0m\u001b[1;33m,\u001b[0m \u001b[0mbeta_start\u001b[0m \u001b[1;33m=\u001b[0m \u001b[1;36m0.4\u001b[0m\u001b[1;33m,\u001b[0m \u001b[0mbeta_end\u001b[0m \u001b[1;33m=\u001b[0m \u001b[1;36m1\u001b[0m\u001b[1;33m,\u001b[0m \u001b[0mbeta_growth\u001b[0m \u001b[1;33m=\u001b[0m \u001b[1;36m1.2\u001b[0m\u001b[1;33m)\u001b[0m\u001b[1;33m:\u001b[0m\u001b[1;33m\u001b[0m\u001b[1;33m\u001b[0m\u001b[0m\n\u001b[1;32m--> 246\u001b[1;33m         \u001b[0mbeta\u001b[0m \u001b[1;33m=\u001b[0m \u001b[0mmin\u001b[0m\u001b[1;33m(\u001b[0m\u001b[0mbeta_start\u001b[0m \u001b[1;33m*\u001b[0m \u001b[1;33m(\u001b[0m\u001b[0mbeta_growth\u001b[0m \u001b[1;33m**\u001b[0m \u001b[0mi\u001b[0m\u001b[1;33m)\u001b[0m\u001b[1;33m,\u001b[0m \u001b[0mbeta_end\u001b[0m\u001b[1;33m)\u001b[0m\u001b[1;33m\u001b[0m\u001b[1;33m\u001b[0m\u001b[0m\n\u001b[0m\u001b[0;32m    247\u001b[0m         \u001b[1;32mreturn\u001b[0m\u001b[1;33m(\u001b[0m\u001b[0mbeta\u001b[0m\u001b[1;33m)\u001b[0m\u001b[1;33m\u001b[0m\u001b[1;33m\u001b[0m\u001b[0m\n",
      "\u001b[1;31mOverflowError\u001b[0m: (34, 'Result too large')"
     ]
    }
   ],
   "source": [
    "import random\n",
    "import numpy as np\n",
    "\n",
    "scores = []\n",
    "scores_deque = deque(maxlen=100) \n",
    "moving_scores = []\n",
    "solved_score=100\n",
    "\n",
    "for i in tqdm_notebook(range(10000)):\n",
    "    if (i+1) % 100==0: print(f'Episdoe {i} Moving Average: {np.mean(scores_deque)}')\n",
    "    state = env.reset()\n",
    "    score = 0\n",
    "    actions = []\n",
    "    while True:\n",
    "        #select action\n",
    "        action = a.act(state)  \n",
    "        actions.append(action)\n",
    "\n",
    "        #env step\n",
    "        next_state, reward, done, info = env.step(action)   \n",
    "        \n",
    "        #agent step\n",
    "        a.step(state,action,reward,next_state,done)\n",
    "        \n",
    "        #collect score\n",
    "        score += reward\n",
    "        \n",
    "        #go to next state\n",
    "        state = next_state   \n",
    "        \n",
    "        #break if done\n",
    "        if done: break\n",
    "            \n",
    "    #book keeping\n",
    "    scores.append(score)\n",
    "    scores_deque.append(score)\n",
    "    moving_scores.append(np.mean(scores_deque))\n",
    "\n",
    "    if moving_scores[-1] > solved_score: \n",
    "        print(f'Solved at Play {i} with moving average of {moving_scores[-1]}')\n",
    "        break"
   ]
  },
  {
   "cell_type": "code",
   "execution_count": 8,
   "metadata": {},
   "outputs": [
    {
     "data": {
      "text/plain": [
       "[<matplotlib.lines.Line2D at 0x197948f8f08>]"
      ]
     },
     "execution_count": 8,
     "metadata": {},
     "output_type": "execute_result"
    },
    {
     "data": {
      "image/png": "[encoded data removed]",
      "text/plain": [
       "<Figure size 432x288 with 1 Axes>"
      ]
     },
     "metadata": {
      "needs_background": "light"
     },
     "output_type": "display_data"
    }
   ],
   "source": [
    "plt.plot(scores)\n",
    "plt.plot(moving_scores)"
   ]
  },
  {
   "cell_type": "code",
   "execution_count": 9,
   "metadata": {},
   "outputs": [
    {
     "data": {
      "text/plain": [
       "[<matplotlib.lines.Line2D at 0x197955b6a88>]"
      ]
     },
     "execution_count": 9,
     "metadata": {},
     "output_type": "execute_result"
    },
    {
     "data": {
      "image/png": "[encoded data removed]",
      "text/plain": [
       "<Figure size 432x288 with 1 Axes>"
      ]
     },
     "metadata": {
      "needs_background": "light"
     },
     "output_type": "display_data"
    }
   ],
   "source": [
    "plt.plot(a.losses)"
   ]
  },
  {
   "cell_type": "code",
   "execution_count": null,
   "metadata": {},
   "outputs": [],
   "source": []
  }
 ],
 "metadata": {
  "kernelspec": {
   "display_name": "Python 3",
   "language": "python",
   "name": "python3"
  },
  "language_info": {
   "codemirror_mode": {
    "name": "ipython",
    "version": 3
   },
   "file_extension": ".py",
   "mimetype": "text/x-python",
   "name": "python",
   "nbconvert_exporter": "python",
   "pygments_lexer": "ipython3",
   "version": "3.7.7"
  }
 },
 "nbformat": 4,
 "nbformat_minor": 4
}
